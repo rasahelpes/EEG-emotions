{
 "cells": [
  {
   "cell_type": "markdown",
   "id": "8cca068c",
   "metadata": {},
   "source": [
    "hack_eeg_emotion.py\n",
    "Dataset: https://springernature.figshare.com/articles/dataset/Preprocessed_Dataset/25751097?backTo=/collections/EEG_Dataset_for_the_Recognition_of_Different_Emotions_Naturally_Induced_in_Voice-User_Interaction/7207839 \n",
    "Pipeline: band-power → SVM → play tune\n",
    "Python ≥3.10, needs: numpy, scipy, scikit-learn, playsound"
   ]
  },
  {
   "cell_type": "code",
   "execution_count": 1,
   "id": "395ce38b",
   "metadata": {},
   "outputs": [],
   "source": [
    "# !pip install numpy #>=1.22\n",
    "# !pip install scipy #>=1.8\n",
    "# !pip install scikit-learn #>=1.1\n",
    "# !pip install playsound #==1.3.0"
   ]
  },
  {
   "cell_type": "code",
   "execution_count": 2,
   "id": "25b2db1a",
   "metadata": {},
   "outputs": [],
   "source": [
    "from pathlib import Path\n",
    "import pickle, random, os\n",
    "import numpy as np\n",
    "from scipy.signal import welch\n",
    "from sklearn.model_selection import train_test_split\n",
    "from sklearn.svm import SVC\n",
    "from sklearn.metrics import classification_report\n",
    "from playsound import playsound               # pip install playsound==1.3.0"
   ]
  },
  {
   "cell_type": "code",
   "execution_count": null,
   "id": "c3782f21",
   "metadata": {},
   "outputs": [],
   "source": [
    "DATA_DIR =Path(\"data/deap\")\n",
    "MUSIC_DIR = Path(\"music\")\n",
    "FS        = 128                                # Hz, fixed in DEAP"
   ]
  },
  {
   "cell_type": "code",
   "execution_count": null,
   "id": "0d9ff61f",
   "metadata": {},
   "outputs": [],
   "source": [
    "# ---------- helpers ----------\n",
    "def bandpower(signal: np.ndarray, band: tuple[int,int], fs: int = FS) -> float:\n",
    "    f, pxx = welch(signal, fs=fs, nperseg=256)\n",
    "    idx    = (f >= band[0]) & (f <= band[1])\n",
    "    return pxx[idx].mean()\n",
    "\n",
    "BANDS = {\"alpha\": (8,13), \"beta\": (13,30), \"gamma\": (30,45)}\n",
    "\n",
    "def extract_feats(trial: np.ndarray) -> np.ndarray:\n",
    "    \"\"\"trial shape: (40 channels, 8064 samples) → 3-D feature vector\"\"\"\n",
    "    return np.array([\n",
    "        np.mean([bandpower(ch, BANDS[b]) for ch in trial])\n",
    "        for b in BANDS\n",
    "    ])\n",
    "\n",
    "def emo_label(val: float, ar: float) -> str:\n",
    "    if val >= 5 and ar >= 5:  return \"happy\"\n",
    "    if val >= 5 and ar <  5:  return \"relaxed\"\n",
    "    if val <  5 and ar <  5:  return \"sad\"\n",
    "    return None     # ignore “low-valence/high-arousal” corner (≈25 % of trials)"
   ]
  },
  {
   "cell_type": "code",
   "execution_count": null,
   "id": "fe004124",
   "metadata": {},
   "outputs": [],
   "source": [
    "# ---------- load ----------\n",
    "X, y = [], []\n",
    "for dat_file in sorted(DATA_DIR.glob(\"s*.dat\")):        # s01.dat … s32.dat\n",
    "    with dat_file.open(\"rb\") as f:\n",
    "        obj = pickle.load(f, encoding=\"latin1\")         # {'data','labels'}\n",
    "    trials, labels = obj[\"data\"], obj[\"labels\"]         # (40,40,8064), (40,4)\n",
    "\n",
    "    for trial, (val, ar, *_ ) in zip(trials, labels):\n",
    "        lbl = emo_label(val, ar)\n",
    "        if lbl is None:                 # skip anxious corner\n",
    "            continue\n",
    "        X.append(extract_feats(trial))\n",
    "        y.append(lbl)\n",
    "\n",
    "X, y = np.vstack(X), np.array(y)\n",
    "print(f\"Feature matrix {X.shape}, labels {np.unique(y, return_counts=True)}\")"
   ]
  },
  {
   "cell_type": "code",
   "execution_count": null,
   "id": "986e3eef",
   "metadata": {},
   "outputs": [],
   "source": [
    "# ---------- model ----------\n",
    "X_train, X_test, y_train, y_test = train_test_split(X, y, test_size=.2, stratify=y, random_state=42)\n",
    "clf = SVC(kernel=\"linear\")\n",
    "clf.fit(X_train, y_train)\n",
    "print(classification_report(y_test, clf.predict(X_test)))"
   ]
  },
  {
   "cell_type": "code",
   "execution_count": null,
   "id": "69706b19",
   "metadata": {},
   "outputs": [],
   "source": [
    "# ---------- demo inference & music ----------\n",
    "rnd_idx = random.randrange(len(X_test))\n",
    "pred    = clf.predict([X_test[rnd_idx]])[0]\n",
    "track   = MUSIC_DIR / f\"{pred}.mp3\"\n",
    "print(f\"Predicted mood ⇒ {pred}.  Playing {track} …\")\n",
    "if track.exists():\n",
    "    playsound(track.as_posix())\n",
    "else:\n",
    "    print(\"Missing audio file – drop an mp3 with the right name into ./music/\")"
   ]
  }
 ],
 "metadata": {
  "kernelspec": {
   "display_name": "Python 3",
   "language": "python",
   "name": "python3"
  },
  "language_info": {
   "codemirror_mode": {
    "name": "ipython",
    "version": 3
   },
   "file_extension": ".py",
   "mimetype": "text/x-python",
   "name": "python",
   "nbconvert_exporter": "python",
   "pygments_lexer": "ipython3",
   "version": "3.13.2"
  }
 },
 "nbformat": 4,
 "nbformat_minor": 5
}
